{
 "cells": [
  {
   "cell_type": "markdown",
   "metadata": {},
   "source": [
    "---\n",
    "title: \"Week 6 - Confidence Intervals\"\n",
    "date: 2024-05-09\n",
    "date-format: full\n",
    "author:\n",
    "    - name:\n",
    "          given: Pranav Kumar\n",
    "          family: Mishra\n",
    "      affiliations:\n",
    "          - ref: rushsurg\n",
    "          - ref: rushortho\n",
    "      corresponding: true\n",
    "      url: https://drpranavmishra.com\n",
    "      email: pranav_k_mishra@rush.edu\n",
    "      orcid: 0000-0001-5219-6269\n",
    "      role: \"Post Doctoral Research Fellow\"\n",
    "\n",
    "execute:\n",
    "    enabled: false\n",
    "    echo: true\n",
    "    output: true\n",
    "---\n"
   ]
  },
  {
   "cell_type": "markdown",
   "metadata": {},
   "source": [
    "## Libraries"
   ]
  },
  {
   "cell_type": "code",
   "execution_count": 26,
   "metadata": {},
   "outputs": [],
   "source": [
    "import pandas as pd\n",
    "import numpy as np\n",
    "import matplotlib.pyplot as plt\n",
    "import seaborn as sns\n",
    "from IPython.display import display, Markdown, Math, Latex\n",
    "\n",
    "from scipy import stats\n",
    "import math\n",
    "\n",
    "import statsmodels.formula.api as smf\n",
    "import statsmodels.api as sm\n",
    "from statsmodels.stats.anova import AnovaRM\n",
    "from statsmodels.regression.mixed_linear_model import MixedLMResults\n",
    "\n",
    "import pingouin as pg"
   ]
  },
  {
   "cell_type": "markdown",
   "metadata": {},
   "source": [
    "## Lecture"
   ]
  },
  {
   "cell_type": "markdown",
   "metadata": {},
   "source": [
    "Standard error:\n",
    "\n",
    "$$\n",
    "SE = \\frac{n}{\\sqrt{\\sigma}}\n",
    "$$"
   ]
  },
  {
   "cell_type": "markdown",
   "metadata": {},
   "source": [
    "Distance from kidney to spine in 10-year-old children"
   ]
  },
  {
   "cell_type": "code",
   "execution_count": 24,
   "metadata": {},
   "outputs": [],
   "source": [
    "nondiseased = [18, 22, 23, 24, 25, 27, 27, 31, 34]\n",
    "diseased = [10, 13, 14, 15, 22]"
   ]
  },
  {
   "cell_type": "code",
   "execution_count": 34,
   "metadata": {},
   "outputs": [
    {
     "data": {
      "text/html": [
       "<div>\n",
       "<style scoped>\n",
       "    .dataframe tbody tr th:only-of-type {\n",
       "        vertical-align: middle;\n",
       "    }\n",
       "\n",
       "    .dataframe tbody tr th {\n",
       "        vertical-align: top;\n",
       "    }\n",
       "\n",
       "    .dataframe thead th {\n",
       "        text-align: right;\n",
       "    }\n",
       "</style>\n",
       "<table border=\"1\" class=\"dataframe\">\n",
       "  <thead>\n",
       "    <tr style=\"text-align: right;\">\n",
       "      <th></th>\n",
       "      <th>T</th>\n",
       "      <th>dof</th>\n",
       "      <th>alternative</th>\n",
       "      <th>p-val</th>\n",
       "      <th>CI95%</th>\n",
       "      <th>cohen-d</th>\n",
       "      <th>BF10</th>\n",
       "      <th>power</th>\n",
       "    </tr>\n",
       "  </thead>\n",
       "  <tbody>\n",
       "    <tr>\n",
       "      <th>T-test</th>\n",
       "      <td>4.163097</td>\n",
       "      <td>12</td>\n",
       "      <td>two-sided</td>\n",
       "      <td>0.001316</td>\n",
       "      <td>[5.18, 16.55]</td>\n",
       "      <td>2.322065</td>\n",
       "      <td>22.703</td>\n",
       "      <td>0.967966</td>\n",
       "    </tr>\n",
       "  </tbody>\n",
       "</table>\n",
       "</div>"
      ],
      "text/plain": [
       "               T  dof alternative     p-val          CI95%   cohen-d    BF10  \\\n",
       "T-test  4.163097   12   two-sided  0.001316  [5.18, 16.55]  2.322065  22.703   \n",
       "\n",
       "           power  \n",
       "T-test  0.967966  "
      ]
     },
     "execution_count": 34,
     "metadata": {},
     "output_type": "execute_result"
    }
   ],
   "source": [
    "# Two sample (unpaired), equal variances, T-test\n",
    "pg.ttest(nondiseased, diseased, paired=False, correction=False, alternative=\"two-sided\", confidence=0.95)"
   ]
  },
  {
   "cell_type": "markdown",
   "metadata": {},
   "source": [
    "Paris II Coronary Incidence Data"
   ]
  },
  {
   "cell_type": "code",
   "execution_count": 71,
   "metadata": {},
   "outputs": [
    {
     "data": {
      "text/plain": [
       "0.0109"
      ]
     },
     "execution_count": 71,
     "metadata": {},
     "output_type": "execute_result"
    }
   ],
   "source": [
    "# pra\n",
    "p_pra = 141/1563\n",
    "n_pra = 1563\n",
    "\n",
    "#PLBO\n",
    "p_plbo = 185/1565\n",
    "n_plbo = 1565\n",
    "\n",
    "alpha = 0.05\n",
    "t_alpha = 1.96 #95% CI\n",
    "\n",
    "s_ppra_pplbo = round(math.sqrt(((p_pra*(1-p_pra))/n_pra)+((p_plbo*(1-p_plbo))/n_plbo)), 4)\n",
    "s_ppra_pplbo"
   ]
  },
  {
   "cell_type": "code",
   "execution_count": 72,
   "metadata": {},
   "outputs": [
    {
     "data": {
      "text/markdown": [
       "\n",
       "The 95% Confidence Interval is: `[-0.0494 -0.0066]`\n",
       "\n",
       "or\n",
       "\n",
       "`-4.94%` to `-0.66%`\n"
      ],
      "text/plain": [
       "<IPython.core.display.Markdown object>"
      ]
     },
     "metadata": {},
     "output_type": "display_data"
    }
   ],
   "source": [
    "#95% CI\n",
    "\n",
    "ci95 = np.round([(p_pra - p_plbo - t_alpha*s_ppra_pplbo), (p_pra - p_plbo + t_alpha*s_ppra_pplbo)], decimals=4)\n",
    "\n",
    "display(Markdown(f\"\"\"\n",
    "The 95% Confidence Interval is: `{ci95}`\n",
    "\n",
    "or\n",
    "\n",
    "`{round((ci95[0] * 100), 4)}%` to `{round((ci95[1] * 100), 4)}%`\n",
    "\"\"\"))"
   ]
  },
  {
   "cell_type": "code",
   "execution_count": 62,
   "metadata": {},
   "outputs": [
    {
     "data": {
      "text/plain": [
       "0.10021517218301977"
      ]
     },
     "execution_count": 62,
     "metadata": {},
     "output_type": "execute_result"
    }
   ],
   "source": [
    "pg.power_ttest2n(n_pra, n_plbo, alpha=0.05, power=0.8)"
   ]
  },
  {
   "cell_type": "markdown",
   "metadata": {},
   "source": [
    "### Smaller sample sizes - Binominal Distribution\n",
    "\n",
    "If $np$ or $n(1-p)$ < 5, then we do not want to use the normal or t distribution. We want to use the binomial distribution instead.\n",
    "\n",
    "$p$: probability of success  \n",
    "$1-p$: probability of failure  \n",
    "\n",
    "$x$ = number of successes in a sample size $n$\n",
    "\n",
    "\n",
    "\n",
    "$$\n",
    "Probability\\ (x\\ success\\ out\\ of\\ n)\\ =\\ {N\\choose x}p^{x}(1-p)^{n-x}\n",
    "$$"
   ]
  },
  {
   "cell_type": "markdown",
   "metadata": {},
   "source": [
    "#### Phase 2 Cancer Trial"
   ]
  },
  {
   "cell_type": "code",
   "execution_count": 5,
   "metadata": {},
   "outputs": [],
   "source": [
    "# Phase 2 testing of a new chemotherapy\n",
    "\n",
    "p = 0.20 # Probability of successful treatment\n",
    "n = 14\n",
    "x = 0 # No successes out of 14 patients\n",
    "\n",
    "beta = 0.05\n",
    "power = 1-beta # 95%"
   ]
  },
  {
   "cell_type": "markdown",
   "metadata": {},
   "source": [
    "$$\n",
    "Pr\\ (No\\ successes\\ out\\ of\\ 14\\ patients)\\ =\\ {14\\choose 0}0.2^{0}(1-0)^{14-0}\n",
    "$$"
   ]
  },
  {
   "cell_type": "code",
   "execution_count": 23,
   "metadata": {},
   "outputs": [
    {
     "data": {
      "text/markdown": [
       "\n",
       "Type II error: `0.044`\n",
       "\n",
       "Does the study have enough power? (Is Type II < Beta)\n",
       "\n",
       "`0.044` < `0.05` == `True`\n",
       "\n"
      ],
      "text/plain": [
       "<IPython.core.display.Markdown object>"
      ]
     },
     "metadata": {},
     "output_type": "display_data"
    }
   ],
   "source": [
    "typeII = round((math.comb(n,x))*(pow(p, x))*(pow(1-p, (n-x))), 4)\n",
    "\n",
    "\n",
    "display(Markdown(f\"\"\"\n",
    "Type II error: `{typeII}`\n",
    "\n",
    "Does the study have enough power? (Is Type II < Beta)\n",
    "\n",
    "`{typeII}` < `{beta}` == `{typeII < beta}`\n",
    "\n",
    "\"\"\"))"
   ]
  },
  {
   "cell_type": "markdown",
   "metadata": {},
   "source": [
    "## Homework"
   ]
  },
  {
   "cell_type": "markdown",
   "metadata": {},
   "source": [
    "7-2"
   ]
  },
  {
   "cell_type": "code",
   "execution_count": null,
   "metadata": {},
   "outputs": [],
   "source": []
  },
  {
   "cell_type": "code",
   "execution_count": null,
   "metadata": {},
   "outputs": [],
   "source": []
  },
  {
   "cell_type": "markdown",
   "metadata": {},
   "source": [
    "7-3"
   ]
  },
  {
   "cell_type": "code",
   "execution_count": null,
   "metadata": {},
   "outputs": [],
   "source": []
  },
  {
   "cell_type": "code",
   "execution_count": null,
   "metadata": {},
   "outputs": [],
   "source": []
  }
 ],
 "metadata": {
  "kernelspec": {
   "display_name": "outcomes",
   "language": "python",
   "name": "python3"
  },
  "language_info": {
   "codemirror_mode": {
    "name": "ipython",
    "version": 3
   },
   "file_extension": ".py",
   "mimetype": "text/x-python",
   "name": "python",
   "nbconvert_exporter": "python",
   "pygments_lexer": "ipython3",
   "version": "3.11.8"
  }
 },
 "nbformat": 4,
 "nbformat_minor": 2
}
