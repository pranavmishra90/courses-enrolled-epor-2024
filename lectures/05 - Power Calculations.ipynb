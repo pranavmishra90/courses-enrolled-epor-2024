{
 "cells": [
  {
   "cell_type": "markdown",
   "metadata": {},
   "source": [
    "---\n",
    "title: \"Week 5 - Power Calculations\"\n",
    "date: 2024-05-02\n",
    "date-format: full\n",
    "author:\n",
    "    - name:\n",
    "          given: Pranav Kumar\n",
    "          family: Mishra\n",
    "      affiliations:\n",
    "          - ref: rushsurg\n",
    "          - ref: rushortho\n",
    "      corresponding: true\n",
    "      url: https://drpranavmishra.com\n",
    "      email: pranav_k_mishra@rush.edu\n",
    "      orcid: 0000-0001-5219-6269\n",
    "      role: \"Post Doctoral Research Fellow\"\n",
    "\n",
    "execute:\n",
    "    enabled: false\n",
    "    echo: true\n",
    "    output: true\n",
    "---\n"
   ]
  },
  {
   "cell_type": "markdown",
   "metadata": {},
   "source": [
    "## Libraries"
   ]
  },
  {
   "cell_type": "code",
   "execution_count": 2,
   "metadata": {},
   "outputs": [],
   "source": [
    "import pandas as pd\n",
    "import numpy as np\n",
    "import matplotlib.pyplot as plt\n",
    "import seaborn as sns\n",
    "from IPython.display import display, Markdown, Math, Latex\n",
    "\n",
    "\n",
    "import statsmodels.formula.api as smf\n",
    "import statsmodels.api as sm\n",
    "\n",
    "from scipy import stats\n",
    "\n",
    "import patsy\n",
    "from statsmodels.stats.anova import AnovaRM\n",
    "from statsmodels.regression.mixed_linear_model import MixedLMResults"
   ]
  },
  {
   "cell_type": "markdown",
   "metadata": {},
   "source": [
    "## Homework"
   ]
  },
  {
   "cell_type": "markdown",
   "metadata": {},
   "source": [
    "Exercise 1"
   ]
  },
  {
   "cell_type": "code",
   "execution_count": 1,
   "metadata": {},
   "outputs": [],
   "source": [
    "# Halothane\n",
    "\n",
    "halothane_n = 9\n",
    "halothane_mean = 2.08\n",
    "halothane_sd = 1.05\n",
    "\n",
    "# Morphine\n",
    "\n",
    "morphine_n = 16\n",
    "morphine_mean = 1.75\n",
    "morphine_sd = 0.88"
   ]
  },
  {
   "cell_type": "markdown",
   "metadata": {},
   "source": [
    "How large of a sample size would be needed to have 80% power for a 25% difference between Halothane and Morphine.\n",
    "\n",
    "Assume: true mean for halothane == 2.08. Therefore, 25% difference == 0.52"
   ]
  },
  {
   "cell_type": "code",
   "execution_count": null,
   "metadata": {},
   "outputs": [],
   "source": []
  }
 ],
 "metadata": {
  "kernelspec": {
   "display_name": "outcomes",
   "language": "python",
   "name": "python3"
  },
  "language_info": {
   "codemirror_mode": {
    "name": "ipython",
    "version": 3
   },
   "file_extension": ".py",
   "mimetype": "text/x-python",
   "name": "python",
   "nbconvert_exporter": "python",
   "pygments_lexer": "ipython3",
   "version": "3.11.8"
  }
 },
 "nbformat": 4,
 "nbformat_minor": 2
}
