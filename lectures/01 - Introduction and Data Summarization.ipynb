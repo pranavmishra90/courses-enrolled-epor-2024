{
 "cells": [
  {
   "cell_type": "markdown",
   "metadata": {},
   "source": [
    "import pandas as pd\n",
    "import numpy as np"
   ]
  },
  {
   "cell_type": "code",
   "execution_count": 1,
   "metadata": {},
   "outputs": [],
   "source": [
    "import pandas as pd\n",
    "import numpy as np\n",
    "import seaborn as sns \n",
    "from IPython.display import display, Markdown, Math, Latex"
   ]
  },
  {
   "cell_type": "markdown",
   "metadata": {},
   "source": [
    "## Textbook Problems\n",
    "\n",
    "These problems have been taken from the following textbook, which is used in the course:\n",
    "\n",
    "> Glantz, S. A. (2012). Primer of biostatistics (7. ed). McGraw-Hill.\n"
   ]
  },
  {
   "cell_type": "markdown",
   "metadata": {},
   "source": [
    "### 2-2"
   ]
  },
  {
   "cell_type": "code",
   "execution_count": 2,
   "metadata": {},
   "outputs": [],
   "source": [
    "# Import data\n",
    "rna_levels_seroconversion = [79725, 12862, 18022, 76712, 256440, 14013, 46083, 6808, 85781, 1251, 6081, 50397, 11020, 13633, 1064, 496433, 25308, 6616, 11210, 13900]\n",
    "\n",
    "rna_levels_sc_df = pd.DataFrame(rna_levels_seroconversion, columns=['RNA_Level'])"
   ]
  },
  {
   "cell_type": "code",
   "execution_count": 3,
   "metadata": {},
   "outputs": [
    {
     "data": {
      "text/html": [
       "<div>\n",
       "<style scoped>\n",
       "    .dataframe tbody tr th:only-of-type {\n",
       "        vertical-align: middle;\n",
       "    }\n",
       "\n",
       "    .dataframe tbody tr th {\n",
       "        vertical-align: top;\n",
       "    }\n",
       "\n",
       "    .dataframe thead th {\n",
       "        text-align: right;\n",
       "    }\n",
       "</style>\n",
       "<table border=\"1\" class=\"dataframe\">\n",
       "  <thead>\n",
       "    <tr style=\"text-align: right;\">\n",
       "      <th></th>\n",
       "      <th>RNA_Level</th>\n",
       "    </tr>\n",
       "  </thead>\n",
       "  <tbody>\n",
       "    <tr>\n",
       "      <th>count</th>\n",
       "      <td>20</td>\n",
       "    </tr>\n",
       "    <tr>\n",
       "      <th>mean</th>\n",
       "      <td>61668</td>\n",
       "    </tr>\n",
       "    <tr>\n",
       "      <th>std</th>\n",
       "      <td>117539</td>\n",
       "    </tr>\n",
       "    <tr>\n",
       "      <th>min</th>\n",
       "      <td>1064</td>\n",
       "    </tr>\n",
       "    <tr>\n",
       "      <th>25%</th>\n",
       "      <td>9967</td>\n",
       "    </tr>\n",
       "    <tr>\n",
       "      <th>50%</th>\n",
       "      <td>13956</td>\n",
       "    </tr>\n",
       "    <tr>\n",
       "      <th>75%</th>\n",
       "      <td>56976</td>\n",
       "    </tr>\n",
       "    <tr>\n",
       "      <th>max</th>\n",
       "      <td>496433</td>\n",
       "    </tr>\n",
       "  </tbody>\n",
       "</table>\n",
       "</div>"
      ],
      "text/plain": [
       "       RNA_Level\n",
       "count         20\n",
       "mean       61668\n",
       "std       117539\n",
       "min         1064\n",
       "25%         9967\n",
       "50%        13956\n",
       "75%        56976\n",
       "max       496433"
      ]
     },
     "execution_count": 3,
     "metadata": {},
     "output_type": "execute_result"
    }
   ],
   "source": [
    "# Calculate the descriptive statistics \n",
    "rna_levels_sc_descriptive = pd.DataFrame(rna_levels_sc_df.describe().round(), dtype=int)\n",
    "rna_levels_sc_descriptive"
   ]
  },
  {
   "cell_type": "code",
   "execution_count": 4,
   "metadata": {},
   "outputs": [],
   "source": [
    "# Determining normality from descriptive stats\n",
    "\n",
    "sc_mean = rna_levels_sc_descriptive.loc[\"mean\", \"RNA_Level\"]\n",
    "sc_median = rna_levels_sc_descriptive.loc[\"50%\", \"RNA_Level\"]\n",
    "\n",
    "mean_to_25th = sc_mean - rna_levels_sc_descriptive.loc[\"25%\", \"RNA_Level\"]\n",
    "mean_to_75th = rna_levels_sc_descriptive.loc[\"75%\", \"RNA_Level\"] - sc_mean"
   ]
  },
  {
   "cell_type": "code",
   "execution_count": 5,
   "metadata": {},
   "outputs": [
    {
     "data": {
      "text/latex": [
       "\n",
       "From the descriptive statistics, the data does not appear to be normally distributed. First, there is some skew to the data, as the mean (`61668`) is far off from the median (`13956`).\n",
       "\n",
       "Additionally, the difference between the mean and 25th percentile $\\neq$ difference between the mean and 75th percentile:\n",
       "\n",
       "$$\n",
       "\\bar{x} - 25^{th}\\ percentile = 51701\n",
       "\\newline\n",
       "\\bar{x} - 75^{th}\\ percentile = -4692\n",
       "$$\n",
       "\n",
       "Therefore, we can say that the data appears to be not normally distributed, based on the descriptive statistics alone.\n"
      ],
      "text/plain": [
       "<IPython.core.display.Latex object>"
      ]
     },
     "metadata": {},
     "output_type": "display_data"
    }
   ],
   "source": [
    "# Answer\n",
    "ans_2_2 = rf\"\"\"\n",
    "From the descriptive statistics, the data does not appear to be normally distributed. First, there is some skew to the data, as the mean (`{sc_mean}`) is far off from the median (`{sc_median}`).\n",
    "\n",
    "Additionally, the difference between the mean and 25th percentile $\\neq$ difference between the mean and 75th percentile:\n",
    "\n",
    "$$\n",
    "\\bar{{x}} - 25^{{th}}\\ percentile = {mean_to_25th}\n",
    "\\newline\n",
    "\\bar{{x}} - 75^{{th}}\\ percentile = {mean_to_75th}\n",
    "$$\n",
    "\n",
    "Therefore, we can say that the data appears to be not normally distributed, based on the descriptive statistics alone.\n",
    "\"\"\"\n",
    "\n",
    "display(Latex(ans_2_2))"
   ]
  },
  {
   "cell_type": "code",
   "execution_count": 6,
   "metadata": {},
   "outputs": [
    {
     "data": {
      "text/plain": [
       "<Axes: ylabel='Count'>"
      ]
     },
     "execution_count": 6,
     "metadata": {},
     "output_type": "execute_result"
    },
    {
     "data": {
      "image/png": "[encoded data removed]",
      "text/plain": [
       "<Figure size 640x480 with 1 Axes>"
      ]
     },
     "metadata": {},
     "output_type": "display_data"
    }
   ],
   "source": [
    "# Graphical confirmation\n",
    "sns.histplot(data = rna_levels_seroconversion)"
   ]
  },
  {
   "cell_type": "markdown",
   "metadata": {
    "notebookRunGroups": {
     "groupValue": "1"
    }
   },
   "source": [
    "### 2-3"
   ]
  },
  {
   "cell_type": "code",
   "execution_count": 7,
   "metadata": {},
   "outputs": [],
   "source": [
    "# Import Data\n",
    "normalized_data = [4.90, 4.11, 4.26, 4.88, 5.41, 4.15, 4.66, 3.83, 4.93, 3.10, 3.78, 4.70, 4.04, 4.13, 3.03, 5.70, 4.40, 3.82, 4.05, 4.14]\n",
    "\n",
    "normalized_data_df = pd.DataFrame(normalized_data, columns=['Pain_Score'])"
   ]
  },
  {
   "cell_type": "code",
   "execution_count": 8,
   "metadata": {},
   "outputs": [
    {
     "data": {
      "text/html": [
       "<div>\n",
       "<style scoped>\n",
       "    .dataframe tbody tr th:only-of-type {\n",
       "        vertical-align: middle;\n",
       "    }\n",
       "\n",
       "    .dataframe tbody tr th {\n",
       "        vertical-align: top;\n",
       "    }\n",
       "\n",
       "    .dataframe thead th {\n",
       "        text-align: right;\n",
       "    }\n",
       "</style>\n",
       "<table border=\"1\" class=\"dataframe\">\n",
       "  <thead>\n",
       "    <tr style=\"text-align: right;\">\n",
       "      <th></th>\n",
       "      <th>Pain_Score</th>\n",
       "    </tr>\n",
       "  </thead>\n",
       "  <tbody>\n",
       "    <tr>\n",
       "      <th>count</th>\n",
       "      <td>20</td>\n",
       "    </tr>\n",
       "    <tr>\n",
       "      <th>mean</th>\n",
       "      <td>4</td>\n",
       "    </tr>\n",
       "    <tr>\n",
       "      <th>std</th>\n",
       "      <td>1</td>\n",
       "    </tr>\n",
       "    <tr>\n",
       "      <th>min</th>\n",
       "      <td>3</td>\n",
       "    </tr>\n",
       "    <tr>\n",
       "      <th>25%</th>\n",
       "      <td>4</td>\n",
       "    </tr>\n",
       "    <tr>\n",
       "      <th>50%</th>\n",
       "      <td>4</td>\n",
       "    </tr>\n",
       "    <tr>\n",
       "      <th>75%</th>\n",
       "      <td>5</td>\n",
       "    </tr>\n",
       "    <tr>\n",
       "      <th>max</th>\n",
       "      <td>6</td>\n",
       "    </tr>\n",
       "  </tbody>\n",
       "</table>\n",
       "</div>"
      ],
      "text/plain": [
       "       Pain_Score\n",
       "count          20\n",
       "mean            4\n",
       "std             1\n",
       "min             3\n",
       "25%             4\n",
       "50%             4\n",
       "75%             5\n",
       "max             6"
      ]
     },
     "execution_count": 8,
     "metadata": {},
     "output_type": "execute_result"
    }
   ],
   "source": [
    "# Calculate the descriptive statistics \n",
    "norm_data_descriptive = pd.DataFrame(normalized_data_df.describe().round(), dtype=int)\n",
    "norm_data_descriptive"
   ]
  },
  {
   "cell_type": "code",
   "execution_count": 9,
   "metadata": {},
   "outputs": [],
   "source": [
    "# Determining normality from descriptive stats\n",
    "\n",
    "norm_mean = norm_data_descriptive.loc[\"mean\", \"Pain_Score\"]\n",
    "norm_median = norm_data_descriptive.loc[\"50%\", \"Pain_Score\"]\n",
    "\n",
    "mean_to_25th = norm_mean - norm_data_descriptive.loc[\"25%\", \"Pain_Score\"]\n",
    "mean_to_75th = norm_data_descriptive.loc[\"75%\", \"Pain_Score\"] - norm_mean"
   ]
  },
  {
   "cell_type": "code",
   "execution_count": 10,
   "metadata": {},
   "outputs": [
    {
     "data": {
      "text/latex": [
       "\n",
       "From the descriptive statistics, the data does appear to be normally distributed. First, the mean (`4`) $=$ the median (`4`).\n",
       "\n",
       "Additionally, the difference between the mean and 25th percentile $\\approx$ difference between the mean and 75th percentile:\n",
       "\n",
       "$$\n",
       "\\bar{x} - 25^{th}\\ percentile = 0\n",
       "\\newline\n",
       "\\bar{x} - 75^{th}\\ percentile = 1\n",
       "$$\n",
       "\n",
       "Therefore, we can say that the data appears to be normally distributed, based on the descriptive statistics alone.\n"
      ],
      "text/plain": [
       "<IPython.core.display.Latex object>"
      ]
     },
     "metadata": {},
     "output_type": "display_data"
    }
   ],
   "source": [
    "# Answer\n",
    "ans_2_3 = rf\"\"\"\n",
    "From the descriptive statistics, the data does appear to be normally distributed. First, the mean (`{norm_mean}`) $=$ the median (`{norm_median}`).\n",
    "\n",
    "Additionally, the difference between the mean and 25th percentile $\\approx$ difference between the mean and 75th percentile:\n",
    "\n",
    "$$\n",
    "\\bar{{x}} - 25^{{th}}\\ percentile = {mean_to_25th}\n",
    "\\newline\n",
    "\\bar{{x}} - 75^{{th}}\\ percentile = {mean_to_75th}\n",
    "$$\n",
    "\n",
    "Therefore, we can say that the data appears to be normally distributed, based on the descriptive statistics alone.\n",
    "\"\"\"\n",
    "\n",
    "display(Latex(ans_2_3))"
   ]
  },
  {
   "cell_type": "code",
   "execution_count": 11,
   "metadata": {},
   "outputs": [
    {
     "data": {
      "text/plain": [
       "<Axes: ylabel='Count'>"
      ]
     },
     "execution_count": 11,
     "metadata": {},
     "output_type": "execute_result"
    },
    {
     "data": {
      "image/png": "[encoded data removed]",
      "text/plain": [
       "<Figure size 640x480 with 1 Axes>"
      ]
     },
     "metadata": {},
     "output_type": "display_data"
    }
   ],
   "source": [
    "# Graphical confirmation\n",
    "sns.histplot(data = normalized_data_df)"
   ]
  }
 ],
 "metadata": {
  "kernelspec": {
   "display_name": "outcomes",
   "language": "python",
   "name": "python3"
  },
  "language_info": {
   "codemirror_mode": {
    "name": "ipython",
    "version": 3
   },
   "file_extension": ".py",
   "mimetype": "text/x-python",
   "name": "python",
   "nbconvert_exporter": "python",
   "pygments_lexer": "ipython3",
   "version": "3.11.8"
  }
 },
 "nbformat": 4,
 "nbformat_minor": 2
}
